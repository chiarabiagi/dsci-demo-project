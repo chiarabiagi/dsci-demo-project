{
 "cells": [
  {
   "cell_type": "code",
   "execution_count": 5,
   "id": "4e14c471-426f-4ed0-a63c-8bcb1745be73",
   "metadata": {},
   "outputs": [
    {
     "data": {
      "text/html": [
       "'hello'"
      ],
      "text/latex": [
       "'hello'"
      ],
      "text/markdown": [
       "'hello'"
      ],
      "text/plain": [
       "[1] \"hello\""
      ]
     },
     "metadata": {},
     "output_type": "display_data"
    }
   ],
   "source": [
    "#sample doce\n",
    "data_science<-\"hello\"\n",
    "data_science"
   ]
  },
  {
   "cell_type": "code",
   "execution_count": null,
   "id": "569add1b-fa1a-48c7-81ce-41dc20e00247",
   "metadata": {},
   "outputs": [],
   "source": []
  }
 ],
 "metadata": {
  "kernelspec": {
   "display_name": "R",
   "language": "R",
   "name": "ir"
  },
  "language_info": {
   "codemirror_mode": "r",
   "file_extension": ".r",
   "mimetype": "text/x-r-source",
   "name": "R",
   "pygments_lexer": "r",
   "version": "4.3.3"
  }
 },
 "nbformat": 4,
 "nbformat_minor": 5
}
